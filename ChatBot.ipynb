{
 "cells": [
  {
   "cell_type": "code",
   "execution_count": 2,
   "metadata": {},
   "outputs": [],
   "source": [
    "from datetime import datetime\n",
    "import random"
   ]
  },
  {
   "cell_type": "code",
   "execution_count": 3,
   "metadata": {},
   "outputs": [
    {
     "name": "stdout",
     "output_type": "stream",
     "text": [
      "oh wow!\n",
      "None\n",
      "maaf, aku tidak tahu jawaban dari pertanyaanmu\n",
      "None\n",
      "orang-orang memanggil saya NAMA mu\n",
      "None\n",
      "maaf, aku tidak tahu jawaban dari pertanyaanmu\n",
      "None\n"
     ]
    }
   ],
   "source": [
    "# ganti dengan sebuah nama\n",
    "nama  = \"NAMA mu\"\n",
    "# variabel tanggal\n",
    "tanggal = datetime.now().day\n",
    "# default variabel untuk pertanyaan tidak diketahui\n",
    "default = \"maaf, aku tidak tahu jawaban dari pertanyaanmu\"\n",
    "\n",
    "#--------------------------------------------------\n",
    "\n",
    "# list jawaban untuk pertanyaan tentang nama\n",
    "jawaban_nama = [\n",
    "      \"nama saya  {0}\".format(nama),\n",
    "      \"orang-orang memanggil saya {0}\".format(nama),\n",
    "      \"panggil saja saya {0}\".format(nama)\n",
    "   ]\n",
    "\n",
    "# list jawaban untuk pertanyaan tentang tanggal\n",
    "jawaban_tanggal = [\n",
    "      \"hari ini tanggal {0}\".format(tanggal),\n",
    "      \"ya ampun masa tidak tahu, hari ini tanggal\".format(tanggal)\n",
    "    ]\n",
    "\n",
    "# opsi pertanyaan yang bisa dijawab\n",
    "pertanyaan = {\n",
    "  \"nama kamu siapa?\": jawaban_nama,\n",
    "  \"kamu siapa?\" : jawaban_nama,\n",
    "  \"tanggal berapa hari ini?\": jawaban_tanggal,\n",
    "  \"hari ini tanggal berapa?\" : jawaban_tanggal,\n",
    "  \"default\": default\n",
    "}\n",
    "\n",
    "# list jawaban untuk sebuah argument selain pertanyaan\n",
    "statement =  [\n",
    "                  'ceritakan lebih banyak!',\n",
    "                  'kenapa kamu berpikir begitu?',\n",
    "                  'sudah berapa lama kamu merasa seperti ini?',\n",
    "                  'Itu sangat menarik!',\n",
    "                  'oh wow!',\n",
    "                  ':)'\n",
    "              ]\n",
    "\n",
    "# respon keseluruhan\n",
    "responses = {\n",
    "    \"pertanyaan\" : pertanyaan,\n",
    "    \"statement\" : statement\n",
    "}\n",
    "             \n",
    "# ayo buat chatbotmu\n",
    "def chatbot(message):\n",
    "    if message.endswith(\"?\"):\n",
    "        if (message == \"nama kamu siapa?\") or (message == \"kamu siapa ?\"):\n",
    "             print(jawaban_nama[random.randint(0, (len(jawaban_nama)-1))])\n",
    "        elif (message == \"tanggal berapa hari ini?\") or (message == \"hari ini tanggal berapa ?\"):\n",
    "            print(jawaban_tanggal[random.randint(0, (len(jawaban_tanggal)-1))])\n",
    "        elif (message == \"default\"):\n",
    "            print(default)\n",
    "        else:\n",
    "            print(default)\n",
    "    \n",
    "    else:\n",
    "        print(statement[random.randint(0, (len(statement)-1))])\n",
    "\n",
    "print(chatbot('Selamat Pagi'))\n",
    "print(chatbot('Mau bermain bersamaku?'))\n",
    "print(chatbot('nama kamu siapa?'))\n",
    "print(chatbot('hari ini tanggal berapa?'))"
   ]
  },
  {
   "cell_type": "code",
   "execution_count": null,
   "metadata": {},
   "outputs": [],
   "source": []
  }
 ],
 "metadata": {
  "kernelspec": {
   "display_name": "Python 3",
   "language": "python",
   "name": "python3"
  },
  "language_info": {
   "codemirror_mode": {
    "name": "ipython",
    "version": 3
   },
   "file_extension": ".py",
   "mimetype": "text/x-python",
   "name": "python",
   "nbconvert_exporter": "python",
   "pygments_lexer": "ipython3",
   "version": "3.7.4"
  }
 },
 "nbformat": 4,
 "nbformat_minor": 2
}
